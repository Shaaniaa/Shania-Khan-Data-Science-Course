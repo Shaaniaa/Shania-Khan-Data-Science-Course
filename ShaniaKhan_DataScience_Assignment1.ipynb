{
  "nbformat": 4,
  "nbformat_minor": 0,
  "metadata": {
    "colab": {
      "name": "ShaniaKhan_DataScience_Assignment1.ipynb",
      "provenance": [],
      "collapsed_sections": []
    },
    "kernelspec": {
      "name": "python3",
      "display_name": "Python 3"
    },
    "language_info": {
      "name": "python"
    }
  },
  "cells": [
    {
      "cell_type": "code",
      "execution_count": 17,
      "metadata": {
        "colab": {
          "base_uri": "https://localhost:8080/"
        },
        "id": "v5Rpym22Md9c",
        "outputId": "76366da0-7a62-4198-c7b5-8144f9c34b11"
      },
      "outputs": [
        {
          "output_type": "stream",
          "name": "stdout",
          "text": [
            "Twinkle, twinkle, little star,\n",
            "                 How I wonder what you are!\n",
            "                         Up above the world so high\n",
            "                         Like a diamond in the sky.\n",
            " Twinkle, twinkle, little star,\n",
            "                 How I wonder what you are\n"
          ]
        }
      ],
      "source": [
        "#Task 1: Write a Python program to print it in specific format \n",
        "print('Twinkle, twinkle, little star,')\n",
        "print('                 How I wonder what you are!')\n",
        "print('                         Up above the world so high')\n",
        "print('                         Like a diamond in the sky.')\n",
        "print(' Twinkle, twinkle, little star,') \n",
        "print('                 How I wonder what you are')"
      ]
    },
    {
      "cell_type": "code",
      "source": [
        "#Task 2: Write a python program to get the Python version you are using\n",
        "import sys\n",
        "print('Python version:'+sys.version)"
      ],
      "metadata": {
        "colab": {
          "base_uri": "https://localhost:8080/"
        },
        "id": "zGQMJcZ7UOgt",
        "outputId": "be58a82d-efdd-4131-a6a6-7392fb7e8f67"
      },
      "execution_count": 21,
      "outputs": [
        {
          "output_type": "stream",
          "name": "stdout",
          "text": [
            "Python version:3.7.12 (default, Sep 10 2021, 00:21:48) \n",
            "[GCC 7.5.0]\n"
          ]
        }
      ]
    },
    {
      "cell_type": "code",
      "source": [
        "#Task 3: Write a python program to display the current date and time.\n",
        "from datetime import datetime\n",
        "\n",
        "datetime = datetime.now()\n",
        "\n",
        "datetime_formatted = datetime.strftime(\"%d/%m/%y %H:%M:%S\")\n",
        "print(datetime_formatted)\n"
      ],
      "metadata": {
        "colab": {
          "base_uri": "https://localhost:8080/"
        },
        "id": "0w7_XFM2XoeQ",
        "outputId": "a6b53cc3-7ecd-44fb-f611-f9973fc3cc0f"
      },
      "execution_count": 23,
      "outputs": [
        {
          "output_type": "stream",
          "name": "stdout",
          "text": [
            "28/12/21 23:31:17\n"
          ]
        }
      ]
    },
    {
      "cell_type": "code",
      "source": [
        "#Task 4: Write a python program which accepts the radius of a circle from the user and compute the area.\n",
        "radius = int(input(\"Enter Radius of circle\"))\n",
        "pie=3.142\n",
        "area= pie * (radius**2)\n",
        "print (area)\n"
      ],
      "metadata": {
        "colab": {
          "base_uri": "https://localhost:8080/"
        },
        "id": "FI-Z_Rh5Yl0K",
        "outputId": "cf54b741-0462-42a4-e981-29e7b8c856e1"
      },
      "execution_count": 24,
      "outputs": [
        {
          "output_type": "stream",
          "name": "stdout",
          "text": [
            "Enter Radius of circle20\n",
            "1256.8\n"
          ]
        }
      ]
    },
    {
      "cell_type": "code",
      "source": [
        "#Task5: Write python program which accept user's frist and last name and print them in reverse order with space between them\n",
        "First_name = input(\"Enter First Name: \")\n",
        "Last_name = input(\"Enter Last Name: \")\n",
        "space = \" \"\n",
        "Reverse_Name = Last_name + space + First_name \n",
        "print (Reverse_Name)"
      ],
      "metadata": {
        "colab": {
          "base_uri": "https://localhost:8080/"
        },
        "id": "oXYK-Z_1Yx5C",
        "outputId": "4d39901e-127f-4822-9a50-511e6db6937f"
      },
      "execution_count": 25,
      "outputs": [
        {
          "output_type": "stream",
          "name": "stdout",
          "text": [
            "Enter First Name: Shania\n",
            "Enter Last Name: Khan\n",
            "Khan Shania\n"
          ]
        }
      ]
    },
    {
      "cell_type": "code",
      "source": [
        "#Task 6: Write a python program which takes 2 inputs from user and print their addition\n",
        "num1 = int(input(\"Enter 1st Number: \"))\n",
        "num2 = int(input(\"Enter 2nd Number: \"))\n",
        "Total = num1 + num2 #addition of numbers user given\n",
        "print(Total)"
      ],
      "metadata": {
        "colab": {
          "base_uri": "https://localhost:8080/"
        },
        "id": "ykFnNnXCY5PP",
        "outputId": "11cbd24a-a3a8-42aa-9b64-00612320d62d"
      },
      "execution_count": 26,
      "outputs": [
        {
          "output_type": "stream",
          "name": "stdout",
          "text": [
            "Enter 1st Number: 8\n",
            "Enter 2nd Number: 2\n",
            "10\n"
          ]
        }
      ]
    },
    {
      "cell_type": "code",
      "source": [
        ""
      ],
      "metadata": {
        "id": "tC8XWF_RZENy"
      },
      "execution_count": null,
      "outputs": []
    }
  ]
}